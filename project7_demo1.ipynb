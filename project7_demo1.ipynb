{
  "nbformat": 4,
  "nbformat_minor": 0,
  "metadata": {
    "colab": {
      "provenance": [],
      "authorship_tag": "ABX9TyN9OApR4ML0wf/QzUNZxBJQ",
      "include_colab_link": true
    },
    "kernelspec": {
      "name": "python3",
      "display_name": "Python 3"
    },
    "language_info": {
      "name": "python"
    }
  },
  "cells": [
    {
      "cell_type": "markdown",
      "metadata": {
        "id": "view-in-github",
        "colab_type": "text"
      },
      "source": [
        "<a href=\"https://colab.research.google.com/github/elenaporras-mx/Project7_AI/blob/main/project7_demo1.ipynb\" target=\"_parent\"><img src=\"https://colab.research.google.com/assets/colab-badge.svg\" alt=\"Open In Colab\"/></a>"
      ]
    },
    {
      "cell_type": "markdown",
      "source": [
        "- **Demo Setup:** We will run a live demonstration of MCTS playing Tic-Tac-Toe. The MCTS agent uses the game’s rules to simulate random games from the current position to choose its moves.\n",
        "- **Expectation:** Even with relatively few simulations per move, MCTS should play Tic-Tac-Toe optimally (i.e., never lose). We’ll visualize how the search tree grows and how the algorithm increasingly favors the correct moves.\n",
        "- **Observation:** In early moves, the search is shallow and random, but as we give it more iterations, it will converge to the minimax-optimal move (which in Tic-Tac-Toe ensures at least a draw). This highlights how MCTS approximates lookahead reasoning via sampling."
      ],
      "metadata": {
        "id": "d8Gsg0sIKhxZ"
      }
    },
    {
      "cell_type": "code",
      "source": [
        "import numpy as np\n",
        "import networkx as nx\n",
        "\n",
        "# numpy import for math operations and random choices\n",
        "\n",
        "class TicTacToe:\n",
        "    def __init__(self):\n",
        "        self.board = [' '] * 9  # create empty 3x3 board as flat list\n",
        "        self.current_player = 'X'  # x always goes first\n",
        "\n",
        "    def print_board(self):\n",
        "        # display board as 3 rows with separators\n",
        "        return \"\\n\".join([\" | \".join(self.board[i:i+3]) for i in range(0, 9, 3)])\n",
        "\n",
        "    def legal_moves(self):\n",
        "        # find all empty spaces on the board\n",
        "        return [i for i in range(9) if self.board[i] == ' ']\n",
        "\n",
        "    def make_move(self, idx):\n",
        "        # attempt to place current player's symbol at position\n",
        "        if self.board[idx] == ' ':\n",
        "            self.board[idx] = self.current_player\n",
        "            self.current_player = 'O' if self.current_player == 'X' else 'X'  # switch players\n",
        "            return True\n",
        "        return False  # move was invalid\n",
        "\n",
        "    def check_winner(self):\n",
        "        # all possible winning combinations\n",
        "        wins = [(0,1,2),(3,4,5),(6,7,8),(0,3,6),(1,4,7),(2,5,8),(0,4,8),(2,4,6)]\n",
        "        for a,b,c in wins:\n",
        "            # check if any winning pattern is complete with same symbol\n",
        "            if self.board[a] != ' ' and self.board[a] == self.board[b] == self.board[c]:\n",
        "                return self.board[a]  # return winning player\n",
        "        if ' ' not in self.board:\n",
        "            return 'Draw'  # board full with no winner\n",
        "        return None  # game still ongoing"
      ],
      "metadata": {
        "id": "R15LH2Cs5g3K"
      },
      "execution_count": null,
      "outputs": []
    },
    {
      "cell_type": "code",
      "source": [
        "javascriptimport numpy as np\n",
        "\n",
        "# numpy import for math operations and random choices\n",
        "\n",
        "class TicTacToe:\n",
        "    def __init__(self):\n",
        "        self.board = [' '] * 9  # create empty 3x3 board as flat list\n",
        "        self.current_player = 'X'  # x always goes first\n",
        "\n",
        "    def print_board(self):\n",
        "        # display board as 3 rows with separators\n",
        "        return \"\\n\".join([\" | \".join(self.board[i:i+3]) for i in range(0, 9, 3)])\n",
        "\n",
        "    def legal_moves(self):\n",
        "        # find all empty spaces on the board\n",
        "        return [i for i in range(9) if self.board[i] == ' ']\n",
        "\n",
        "    def make_move(self, idx):\n",
        "        # attempt to place current player's symbol at position\n",
        "        if self.board[idx] == ' ':\n",
        "            self.board[idx] = self.current_player\n",
        "            self.current_player = 'O' if self.current_player == 'X' else 'X'  # switch players\n",
        "            return True\n",
        "        return False  # move was invalid\n",
        "\n",
        "    def check_winner(self):\n",
        "        # all possible winning combinations\n",
        "        wins = [(0,1,2),(3,4,5),(6,7,8),(0,3,6),(1,4,7),(2,5,8),(0,4,8),(2,4,6)]\n",
        "        for a,b,c in wins:\n",
        "            # check if any winning pattern is complete with same symbol\n",
        "            if self.board[a] != ' ' and self.board[a] == self.board[b] == self.board[c]:\n",
        "                return self.board[a]  # return winning player\n",
        "        if ' ' not in self.board:\n",
        "            return 'Draw'  # board full with no winner\n",
        "        return None  # game still ongoing\n",
        "\n",
        "class MCTSNode:\n",
        "    def __init__(self, state, parent=None, move=None):\n",
        "        # monte carlo tree search node representation\n",
        "        self.state = state  # game state at this node\n",
        "        self.parent = parent  # parent node\n",
        "        self.move = move  # move that led to this state\n",
        "        self.children = []  # possible next moves\n",
        "        self.visits = 0  # number of times visited\n",
        "        self.wins = 0  # number of wins from this position\n",
        "\n",
        "    def uct_score(self, c=1.41):\n",
        "        # upper confidence bound calculation\n",
        "        if self.visits == 0:\n",
        "            return float('inf')  # unvisited nodes get priority\n",
        "        # balance exploitation (win ratio) and exploration (visit ratio)\n",
        "        return self.wins / self.visits + c * np.sqrt(np.log(self.parent.visits) / self.visits)\n",
        "\n",
        "def simulate_random_game(start_state):\n",
        "    # play out a random game from the given state\n",
        "    game = TicTacToe()\n",
        "    game.board = start_state.board[:]  # copy board state\n",
        "    game.current_player = start_state.current_player\n",
        "    while game.check_winner() is None:\n",
        "        move = np.random.choice(game.legal_moves())  # pick random valid move\n",
        "        game.make_move(move)\n",
        "    return game.check_winner()  # return final result\n",
        "\n",
        "def expand_node(node):\n",
        "    # add all possible next states as children\n",
        "    game = TicTacToe()\n",
        "    game.board = node.state.board[:]\n",
        "    game.current_player = node.state.current_player\n",
        "    for move in game.legal_moves():\n",
        "        game_copy = TicTacToe()\n",
        "        game_copy.board = game.board[:]\n",
        "        game_copy.current_player = game.current_player\n",
        "        game_copy.make_move(move)  # create new state after move\n",
        "        child = MCTSNode(game_copy, parent=node, move=move)\n",
        "        node.children.append(child)\n",
        "\n",
        "def select_best_child(node):\n",
        "    # select child with highest uct score for exploration\n",
        "    return max(node.children, key=lambda child: child.uct_score())\n",
        "\n",
        "def backpropagate(path, winner, player):\n",
        "    # update stats for all nodes in the path\n",
        "    for node in path:\n",
        "        node.visits += 1\n",
        "        if winner == player:\n",
        "            node.wins += 1  # full win\n",
        "        elif winner == 'Draw':\n",
        "            node.wins += 0.5  # half credit for draw\n",
        "\n",
        "def mcts_search(root_state, simulations=100):\n",
        "    # main monte carlo tree search algorithm\n",
        "    root = MCTSNode(root_state)\n",
        "    for _ in range(simulations):\n",
        "        node = root\n",
        "        path = [node]\n",
        "\n",
        "        # selection - traverse tree to leaf using uct\n",
        "        while node.children:\n",
        "            node = select_best_child(node)\n",
        "            path.append(node)\n",
        "\n",
        "        # expansion - add children if node was visited before\n",
        "        if node.visits > 0 and not node.children:\n",
        "            expand_node(node)\n",
        "            if node.children:\n",
        "                node = np.random.choice(node.children)  # select random child\n",
        "                path.append(node)\n",
        "\n",
        "        # simulation - random playout from this position\n",
        "        winner = simulate_random_game(node.state)\n",
        "\n",
        "        # backpropagation - update stats for all nodes in path\n",
        "        backpropagate(path, winner, root_state.current_player)\n",
        "\n",
        "    return root\n",
        "\n"
      ],
      "metadata": {
        "id": "gAGlihbb5gzc"
      },
      "execution_count": null,
      "outputs": []
    },
    {
      "cell_type": "code",
      "source": [
        "# demo code - run mcts with 100 simulations on empty board\n",
        "root_game = TicTacToe()\n",
        "root_node = mcts_search(root_game, simulations=100)\n",
        "move_stats = [(child.move, child.visits, round(child.wins, 1)) for child in root_node.children]\n",
        "move_stats.sort()  # sort by move index"
      ],
      "metadata": {
        "id": "W7ZJoVoG5gxD"
      },
      "execution_count": null,
      "outputs": []
    },
    {
      "cell_type": "code",
      "source": [
        "# display results using pandas\n",
        "import pandas as pd\n",
        "df = pd.DataFrame(move_stats, columns=[\"Move\", \"Visits\", \"Wins\"])\n",
        "print(df)"
      ],
      "metadata": {
        "id": "q_Yev9R56c1h"
      },
      "execution_count": null,
      "outputs": []
    },
    {
      "cell_type": "code",
      "source": [
        "import networkx as nx\n",
        "\n",
        "# helper function to create a visual representation of the monte carlo tree search\n",
        "def visualize_mcts_tree(root_node, depth_limit=2):\n",
        "   G = nx.DiGraph()  # create directed graph structure\n",
        "   labels = {}  # dictionary to store node labels\n",
        "\n",
        "   def add_nodes(node, depth=0, parent_id=None, node_id=[0]):\n",
        "       if depth > depth_limit:\n",
        "           return  # stop recursion if we hit depth limit\n",
        "\n",
        "       current_id = node_id[0]  # use current counter value as unique node id\n",
        "       # create label showing move position, visit count and win count\n",
        "       label = f\"{node.move if node.move is not None else 'root'}\\nV:{node.visits},W:{round(node.wins,1)}\"\n",
        "       labels[current_id] = label  # store label for this node\n",
        "       G.add_node(current_id)  # add node to graph\n",
        "\n",
        "       if parent_id is not None:\n",
        "           G.add_edge(parent_id, current_id)  # connect to parent if not root\n",
        "\n",
        "       node_id[0] += 1  # increment counter for next node\n",
        "\n",
        "       # recursively process all children\n",
        "       for child in node.children:\n",
        "           add_nodes(child, depth+1, current_id, node_id)\n",
        "\n",
        "   # start recursive node addition from root\n",
        "   add_nodes(root_node)\n",
        "\n",
        "   pos = nx.spring_layout(G, seed=42)  # calculate node positions with fixed random seed\n",
        "   plt.figure(figsize=(10, 6))  # create large enough figure\n",
        "   # draw nodes and connections\n",
        "   nx.draw(G, pos, with_labels=False, node_size=1500, node_color=\"lightblue\", arrows=True)\n",
        "   # add text labels to nodes\n",
        "   nx.draw_networkx_labels(G, pos, labels, font_size=9)\n",
        "   plt.title(\"MCTS Tree Visualization (depth ≤ 2)\")  # add title\n",
        "   plt.axis('off')  # hide axis\n",
        "   plt.show()  # display the graph\n",
        "\n"
      ],
      "metadata": {
        "id": "leOd9rw_5gtw"
      },
      "execution_count": null,
      "outputs": []
    },
    {
      "cell_type": "code",
      "source": [
        "visualize_mcts_tree(root_node)"
      ],
      "metadata": {
        "id": "nmDj6dpc5gpj"
      },
      "execution_count": null,
      "outputs": []
    },
    {
      "cell_type": "markdown",
      "source": [
        "# After 100 sims!\n",
        "Each node displays:\n",
        "\n",
        "the move taken from its parent (root means it's the starting state),\n",
        "\n",
        "number of visits (V),\n",
        "\n",
        "and number of wins (W) for the root player.\n",
        "\n"
      ],
      "metadata": {
        "id": "rWHsLVmVQTB5"
      }
    },
    {
      "cell_type": "code",
      "source": [
        "import matplotlib.pyplot as plt\n"
      ],
      "metadata": {
        "id": "vd68RHIw6qCc"
      },
      "execution_count": null,
      "outputs": []
    },
    {
      "cell_type": "code",
      "source": [
        "def display_board(board_state):\n",
        "   # set up the tic-tac-toe grid visualization\n",
        "   fig, ax = plt.subplots(figsize=(3, 3))\n",
        "   ax.set_xticks([0.5, 1.5], minor=True)\n",
        "   ax.set_yticks([0.5, 1.5], minor=True)\n",
        "   ax.grid(which='minor', color='black', linewidth=2)\n",
        "\n",
        "   # place X and O symbols in the grid\n",
        "   for i in range(9):\n",
        "       row, col = divmod(i, 3)\n",
        "       symbol = board_state[i]\n",
        "       ax.text(col + 0.5, 2.5 - row, symbol, fontsize=24, ha='center', va='center')\n",
        "\n",
        "   # configure display settings\n",
        "   ax.set_xlim(0, 3)\n",
        "   ax.set_ylim(0, 3)\n",
        "   ax.axis('off')\n",
        "   plt.show()\n"
      ],
      "metadata": {
        "colab": {
          "base_uri": "https://localhost:8080/",
          "height": 1000
        },
        "id": "_cRQaaNWPgA9",
        "outputId": "6e202b4a-e8db-4921-d395-b9dfa91bb977"
      },
      "execution_count": null,
      "outputs": [
        {
          "output_type": "stream",
          "name": "stdout",
          "text": [
            "Move 1: Player O\n"
          ]
        },
        {
          "output_type": "display_data",
          "data": {
            "text/plain": [
              "<Figure size 300x300 with 1 Axes>"
            ],
            "image/png": "[encoded data removed]"
          },
          "metadata": {}
        },
        {
          "output_type": "stream",
          "name": "stdout",
          "text": [
            "Move 2: Player O\n"
          ]
        },
        {
          "output_type": "display_data",
          "data": {
            "text/plain": [
              "<Figure size 300x300 with 1 Axes>"
            ],
            "image/png": "[encoded data removed]"
          },
          "metadata": {}
        },
        {
          "output_type": "stream",
          "name": "stdout",
          "text": [
            "Move 3: Player O\n"
          ]
        },
        {
          "output_type": "display_data",
          "data": {
            "text/plain": [
              "<Figure size 300x300 with 1 Axes>"
            ],
            "image/png": "[encoded data removed]"
          },
          "metadata": {}
        },
        {
          "output_type": "stream",
          "name": "stdout",
          "text": [
            "Move 4: Player O\n"
          ]
        },
        {
          "output_type": "display_data",
          "data": {
            "text/plain": [
              "<Figure size 300x300 with 1 Axes>"
            ],
            "image/png": "[encoded data removed]"
          },
          "metadata": {}
        },
        {
          "output_type": "stream",
          "name": "stdout",
          "text": [
            "Move 5: Player O\n"
          ]
        },
        {
          "output_type": "display_data",
          "data": {
            "text/plain": [
              "<Figure size 300x300 with 1 Axes>"
            ],
            "image/png": "[encoded data removed]"
          },
          "metadata": {}
        },
        {
          "output_type": "stream",
          "name": "stdout",
          "text": [
            "Move 6: Player O\n"
          ]
        },
        {
          "output_type": "display_data",
          "data": {
            "text/plain": [
              "<Figure size 300x300 with 1 Axes>"
            ],
            "image/png": "[encoded data removed]"
          },
          "metadata": {}
        },
        {
          "output_type": "stream",
          "name": "stdout",
          "text": [
            "Move 7: Player O\n"
          ]
        },
        {
          "output_type": "display_data",
          "data": {
            "text/plain": [
              "<Figure size 300x300 with 1 Axes>"
            ],
            "image/png": "[encoded data removed]"
          },
          "metadata": {}
        },
        {
          "output_type": "stream",
          "name": "stdout",
          "text": [
            "Move 8: Player O\n"
          ]
        },
        {
          "output_type": "display_data",
          "data": {
            "text/plain": [
              "<Figure size 300x300 with 1 Axes>"
            ],
            "image/png": "[encoded data removed]"
          },
          "metadata": {}
        },
        {
          "output_type": "stream",
          "name": "stdout",
          "text": [
            "Game Result: O\n"
          ]
        }
      ]
    },
    {
      "cell_type": "code",
      "source": [
        "# create and visualize a random game from start to finish\n",
        "def simulate_and_visualize_game(start_state):\n",
        "   game = TicTacToe()\n",
        "   game.board = start_state.board[:]\n",
        "   game.current_player = start_state.current_player\n",
        "   history = []\n",
        "\n",
        "   # play random moves until game is over\n",
        "   while game.check_winner() is None:\n",
        "       move = np.random.choice(game.legal_moves())\n",
        "       game.make_move(move)\n",
        "       history.append(game.board[:])\n",
        "\n",
        "   # show each board state with player info\n",
        "   for i, board in enumerate(history):\n",
        "       print(f\"Move {i+1}: Player {'O' if game.current_player == 'X' else 'X'}\")\n",
        "       display_board(board)\n",
        "\n",
        "   print(f\"Game Result: {game.check_winner()}\")"
      ],
      "metadata": {
        "id": "pKyY_XaV6vhE"
      },
      "execution_count": null,
      "outputs": []
    },
    {
      "cell_type": "code",
      "source": [
        "simulate_and_visualize_game(root_game)"
      ],
      "metadata": {
        "id": "PBw9zMdG6ysf"
      },
      "execution_count": null,
      "outputs": []
    },
    {
      "cell_type": "code",
      "source": [
        "# alphaZero-style mcts with priors and value estimation\n",
        "\n",
        "# modified mctsnode to include priors and value\n",
        "class AZNode:\n",
        "    def __init__(self, state, parent=None, move=None, prior=1.0):\n",
        "        self.state = state  # game state at this node\n",
        "        self.parent = parent  # parent node reference\n",
        "        self.move = move  # move that led to this state\n",
        "        self.prior = prior  # probability from neural network\n",
        "        self.children = []  # possible next moves\n",
        "        self.visits = 0  # visit count\n",
        "        self.wins = 0  # win count\n",
        "        self.value = 0  # estimated value of position\n",
        "\n",
        "    def uct_score(self, c=1.41):\n",
        "        if self.visits == 0:\n",
        "            return self.prior + 1e-8  # prevent division by zero\n",
        "        # balance winning percentage with exploration based on prior\n",
        "        exploitation = self.wins / self.visits\n",
        "        exploration = c * self.prior * np.sqrt(np.log(self.parent.visits + 1) / self.visits)\n",
        "        return exploitation + exploration"
      ],
      "metadata": {
        "colab": {
          "base_uri": "https://localhost:8080/"
        },
        "id": "MeUlWWORTc2U",
        "outputId": "3756a81d-f9d0-4fd2-ee99-d5a802406e92"
      },
      "execution_count": null,
      "outputs": [
        {
          "output_type": "stream",
          "name": "stdout",
          "text": [
            "   Move  Visits  Wins\n",
            "0     0     100  65.0\n",
            "1     1       0   0.0\n",
            "2     2       0   0.0\n",
            "3     3       0   0.0\n",
            "4     4       0   0.0\n",
            "5     5       0   0.0\n",
            "6     6       0   0.0\n",
            "7     7       0   0.0\n",
            "8     8       0   0.0\n"
          ]
        }
      ]
    },
    {
      "cell_type": "code",
      "source": [
        "def dummy_nn_prior_value(board_state):\n",
        "    # fake neural network output with uniform priors and simple value heuristic\n",
        "    game = TicTacToe()\n",
        "    game.board = board_state[:]\n",
        "    game.current_player = 'X'\n",
        "    legal = game.legal_moves()\n",
        "    # assign equal probability to all legal moves\n",
        "    priors = {move: 1/len(legal) for move in legal}\n",
        "\n",
        "    # simple heuristic: center square ownership affects value estimate\n",
        "    center = 4\n",
        "    if board_state[center] == 'X':\n",
        "        value = 0.5  # advantage to X\n",
        "    elif board_state[center] == 'O':\n",
        "        value = -0.5  # advantage to O\n",
        "    else:\n",
        "        value = 0  # neutral position\n",
        "    return priors, value"
      ],
      "metadata": {
        "id": "JXOPh1zT7BVr"
      },
      "execution_count": null,
      "outputs": []
    },
    {
      "cell_type": "code",
      "source": [
        "def az_mcts_search(root_state, simulations=100):\n",
        "    # get move probabilities and value estimate from neural net\n",
        "    priors, value_est = dummy_nn_prior_value(root_state.board)\n",
        "    root = AZNode(root_state, prior=1.0)\n",
        "\n",
        "    # initialize tree with children using priors\n",
        "    for move, prior in priors.items():\n",
        "        game_copy = TicTacToe()\n",
        "        game_copy.board = root_state.board[:]\n",
        "        game_copy.current_player = root_state.current_player\n",
        "        game_copy.make_move(move)\n",
        "        child = AZNode(game_copy, parent=root, move=move, prior=prior)\n",
        "        root.children.append(child)\n",
        "\n",
        "    # run simulations\n",
        "    for _ in range(simulations):\n",
        "        node = root\n",
        "        path = [node]\n",
        "        # selection - traverse tree to leaf using uct\n",
        "        while node.children:\n",
        "            node = max(node.children, key=lambda n: n.uct_score())\n",
        "            path.append(node)\n",
        "\n",
        "        # simulation with random playout\n",
        "        winner = simulate_random_game(node.state)\n",
        "\n",
        "        # backpropagation - update stats\n",
        "        for n in path:\n",
        "            n.visits += 1\n",
        "            if winner == root_state.current_player:\n",
        "                n.wins += 1\n",
        "            elif winner == 'Draw':\n",
        "                n.wins += 0.5\n",
        "\n",
        "    return root"
      ],
      "metadata": {
        "id": "vdJk5ebJ7EvI"
      },
      "execution_count": null,
      "outputs": []
    },
    {
      "cell_type": "code",
      "source": [
        "# Run AlphaZero-style MCTS on initial Tic-Tac-Toe state\n",
        "az_root = az_mcts_search(TicTacToe(), simulations=100)\n",
        "az_stats = [(child.move, child.visits, round(child.wins, 1)) for child in az_root.children]\n",
        "az_stats.sort()"
      ],
      "metadata": {
        "id": "iMPHeaYy7FfU"
      },
      "execution_count": null,
      "outputs": []
    },
    {
      "cell_type": "code",
      "source": [
        "df_az = pd.DataFrame(az_stats, columns=[\"Move\", \"Visits\", \"Wins\"])\n",
        "print(df_az)"
      ],
      "metadata": {
        "id": "doeWg9XZ7IAP"
      },
      "execution_count": null,
      "outputs": []
    },
    {
      "cell_type": "markdown",
      "source": [
        "Move 0 received all 100 visits and has a high win rate (65%).\n",
        "\n",
        "Other moves were ignored—why?\n",
        "\n",
        "- The fake neural net gives equal priors, but since center (move 4) is empty, the value estimate is 0.\n",
        "\n",
        "- Move 0 likely led to faster wins or better opponent traps in simulations.\n",
        "\n",
        "## How would you play as O in response to X at position 0? What strategy might MCTS be discovering?\n",
        "\n",
        "we will find out soon...."
      ],
      "metadata": {
        "id": "AYUUAcvXUXXg"
      }
    },
    {
      "cell_type": "code",
      "source": [
        "# Rerun MCTS without priors (classic MCTS) for comparison\n",
        "pure_root = mcts_search(TicTacToe(), simulations=100)\n",
        "print(\"\\n📊 Pure MCTS (No Priors) Results:\")\n",
        "for child in sorted(pure_root.children, key=lambda c: c.visits, reverse=True):\n",
        "    print(f\"Move: {child.move} | Visits: {child.visits} | Wins: {round(child.wins, 1)}\")\n",
        "    display_board(child.state.board)"
      ],
      "metadata": {
        "colab": {
          "base_uri": "https://localhost:8080/",
          "height": 1000
        },
        "id": "T4AWqVKvU50q",
        "outputId": "add60b89-6d72-4945-ffbd-ad068b2173bd"
      },
      "execution_count": null,
      "outputs": [
        {
          "output_type": "stream",
          "name": "stdout",
          "text": [
            "\n",
            "📊 Pure MCTS (No Priors) Results:\n",
            "Move: 0 | Visits: 13 | Wins: 9.5\n"
          ]
        },
        {
          "output_type": "display_data",
          "data": {
            "text/plain": [
              "<Figure size 300x300 with 1 Axes>"
            ],
            "image/png": "[encoded data removed]"
          },
          "metadata": {}
        },
        {
          "output_type": "stream",
          "name": "stdout",
          "text": [
            "Move: 1 | Visits: 13 | Wins: 9.5\n"
          ]
        },
        {
          "output_type": "display_data",
          "data": {
            "text/plain": [
              "<Figure size 300x300 with 1 Axes>"
            ],
            "image/png": "[encoded data removed]"
          },
          "metadata": {}
        },
        {
          "output_type": "stream",
          "name": "stdout",
          "text": [
            "Move: 5 | Visits: 13 | Wins: 9.0\n"
          ]
        },
        {
          "output_type": "display_data",
          "data": {
            "text/plain": [
              "<Figure size 300x300 with 1 Axes>"
            ],
            "image/png": "[encoded data removed]"
          },
          "metadata": {}
        },
        {
          "output_type": "stream",
          "name": "stdout",
          "text": [
            "Move: 8 | Visits: 12 | Wins: 7.5\n"
          ]
        },
        {
          "output_type": "display_data",
          "data": {
            "text/plain": [
              "<Figure size 300x300 with 1 Axes>"
            ],
            "image/png": "[encoded data removed]"
          },
          "metadata": {}
        },
        {
          "output_type": "stream",
          "name": "stdout",
          "text": [
            "Move: 3 | Visits: 11 | Wins: 7\n"
          ]
        },
        {
          "output_type": "display_data",
          "data": {
            "text/plain": [
              "<Figure size 300x300 with 1 Axes>"
            ],
            "image/png": "[encoded data removed]"
          },
          "metadata": {}
        },
        {
          "output_type": "stream",
          "name": "stdout",
          "text": [
            "Move: 4 | Visits: 11 | Wins: 7\n"
          ]
        },
        {
          "output_type": "display_data",
          "data": {
            "text/plain": [
              "<Figure size 300x300 with 1 Axes>"
            ],
            "image/png": "[encoded data removed]"
          },
          "metadata": {}
        },
        {
          "output_type": "stream",
          "name": "stdout",
          "text": [
            "Move: 6 | Visits: 10 | Wins: 5.5\n"
          ]
        },
        {
          "output_type": "display_data",
          "data": {
            "text/plain": [
              "<Figure size 300x300 with 1 Axes>"
            ],
            "image/png": "[encoded data removed]"
          },
          "metadata": {}
        },
        {
          "output_type": "stream",
          "name": "stdout",
          "text": [
            "Move: 2 | Visits: 8 | Wins: 4\n"
          ]
        },
        {
          "output_type": "display_data",
          "data": {
            "text/plain": [
              "<Figure size 300x300 with 1 Axes>"
            ],
            "image/png": "[encoded data removed]"
          },
          "metadata": {}
        },
        {
          "output_type": "stream",
          "name": "stdout",
          "text": [
            "Move: 7 | Visits: 8 | Wins: 3.5\n"
          ]
        },
        {
          "output_type": "display_data",
          "data": {
            "text/plain": [
              "<Figure size 300x300 with 1 Axes>"
            ],
            "image/png": "[encoded data removed]"
          },
          "metadata": {}
        }
      ]
    }
  ]
}